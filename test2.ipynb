{
 "cells": [
  {
   "cell_type": "code",
   "execution_count": 3,
   "metadata": {},
   "outputs": [
    {
     "data": {
      "text/plain": [
       "'101010'"
      ]
     },
     "execution_count": 3,
     "metadata": {},
     "output_type": "execute_result"
    }
   ],
   "source": [
    "s = \"-0b101010\"\n",
    "new_str = s[s.index('b')+1:]\n",
    "new_str"
   ]
  },
  {
   "cell_type": "code",
   "execution_count": 2,
   "metadata": {},
   "outputs": [
    {
     "data": {
      "text/plain": [
       "(31, 31)"
      ]
     },
     "execution_count": 2,
     "metadata": {},
     "output_type": "execute_result"
    }
   ],
   "source": [
    "int(\"11111\" , 2),2**5-1"
   ]
  },
  {
   "cell_type": "code",
   "execution_count": 3,
   "metadata": {},
   "outputs": [
    {
     "ename": "NameError",
     "evalue": "name 'i' is not defined",
     "output_type": "error",
     "traceback": [
      "\u001b[1;31m---------------------------------------------------------------------------\u001b[0m",
      "\u001b[1;31mNameError\u001b[0m                                 Traceback (most recent call last)",
      "\u001b[1;32m~\\AppData\\Local\\Temp\\ipykernel_13220\\4118729487.py\u001b[0m in \u001b[0;36m<module>\u001b[1;34m\u001b[0m\n\u001b[1;32m----> 1\u001b[1;33m \u001b[1;32mwhile\u001b[0m\u001b[1;33m(\u001b[0m\u001b[0mi\u001b[0m \u001b[1;32min\u001b[0m \u001b[0mrange\u001b[0m\u001b[1;33m(\u001b[0m\u001b[1;36m3\u001b[0m\u001b[1;33m)\u001b[0m\u001b[1;33m)\u001b[0m\u001b[1;33m:\u001b[0m\u001b[1;33m\u001b[0m\u001b[1;33m\u001b[0m\u001b[0m\n\u001b[0m\u001b[0;32m      2\u001b[0m     \u001b[0mprint\u001b[0m\u001b[1;33m(\u001b[0m\u001b[1;34m\"3\"\u001b[0m\u001b[1;33m)\u001b[0m\u001b[1;33m\u001b[0m\u001b[1;33m\u001b[0m\u001b[0m\n",
      "\u001b[1;31mNameError\u001b[0m: name 'i' is not defined"
     ]
    }
   ],
   "source": [
    "while(i in range(3)):\n",
    "    print(\"3\")"
   ]
  },
  {
   "cell_type": "code",
   "execution_count": 1,
   "metadata": {},
   "outputs": [
    {
     "ename": "TypeError",
     "evalue": "append() takes exactly one argument (2 given)",
     "output_type": "error",
     "traceback": [
      "\u001b[1;31m---------------------------------------------------------------------------\u001b[0m",
      "\u001b[1;31mTypeError\u001b[0m                                 Traceback (most recent call last)",
      "\u001b[1;32m~\\AppData\\Local\\Temp\\ipykernel_14060\\1577067392.py\u001b[0m in \u001b[0;36m<module>\u001b[1;34m\u001b[0m\n\u001b[1;32m----> 1\u001b[1;33m \u001b[1;33m[\u001b[0m\u001b[1;33m]\u001b[0m\u001b[1;33m.\u001b[0m\u001b[0mappend\u001b[0m\u001b[1;33m(\u001b[0m\u001b[1;36m1\u001b[0m\u001b[1;33m,\u001b[0m\u001b[1;36m2\u001b[0m\u001b[1;33m)\u001b[0m\u001b[1;33m\u001b[0m\u001b[1;33m\u001b[0m\u001b[0m\n\u001b[0m",
      "\u001b[1;31mTypeError\u001b[0m: append() takes exactly one argument (2 given)"
     ]
    }
   ],
   "source": [
    "a = [].append(1,2)"
   ]
  },
  {
   "cell_type": "code",
   "execution_count": 18,
   "metadata": {},
   "outputs": [],
   "source": [
    "selection_type = input('''请输入选择方式：\n",
    "选择最大值：0\n",
    "选择最小值：1''')"
   ]
  },
  {
   "cell_type": "code",
   "execution_count": 17,
   "metadata": {},
   "outputs": [
    {
     "data": {
      "text/plain": [
       "'0b1111111111111'"
      ]
     },
     "execution_count": 17,
     "metadata": {},
     "output_type": "execute_result"
    }
   ],
   "source": [
    "bin(int((2**14-1)/2))"
   ]
  },
  {
   "cell_type": "code",
   "execution_count": null,
   "metadata": {},
   "outputs": [],
   "source": [
    "indivi1 = '101010'\n",
    "indivi2 = '111'\n",
    "num_bits=len(indivi1)\n",
    "crossover_point1 = np.random.randint(1, num_bits)\n",
    "crossover_point2 = num_bits-crossover_point1"
   ]
  },
  {
   "cell_type": "code",
   "execution_count": 28,
   "metadata": {},
   "outputs": [
    {
     "name": "stdout",
     "output_type": "stream",
     "text": [
      "0\n"
     ]
    }
   ],
   "source": [
    "for i in range(1):\n",
    "    print(i)"
   ]
  },
  {
   "cell_type": "code",
   "execution_count": 1,
   "metadata": {},
   "outputs": [
    {
     "data": {
      "text/plain": [
       "('12', '3456789', '1')"
      ]
     },
     "execution_count": 1,
     "metadata": {},
     "output_type": "execute_result"
    }
   ],
   "source": [
    "a='123456789'\n",
    "a[:2],a[-7:],a[0]"
   ]
  },
  {
   "cell_type": "code",
   "execution_count": 2,
   "metadata": {},
   "outputs": [
    {
     "data": {
      "text/plain": [
       "'0123456789'"
      ]
     },
     "execution_count": 2,
     "metadata": {},
     "output_type": "execute_result"
    }
   ],
   "source": [
    "('0'*(0) + a).zfill(10)"
   ]
  },
  {
   "cell_type": "code",
   "execution_count": null,
   "metadata": {},
   "outputs": [],
   "source": [
    "class initial:       \n",
    "    def initial_population(self):\n",
    "        pass\n",
    "\n",
    "class Binary_initial(initial):\n",
    "    def initial_population(self,population_size,dimension,code_length):\n",
    "        return \"汪汪汪！\"\n",
    "\n",
    "class Decimal_initial(initial):\n",
    "    def initial_population(self,population_size,dimension):\n",
    "        return \"喵喵喵！\"\n",
    "\n",
    "class initialFactory:\n",
    "    def create_initial(self, kind, population_size,dimension,code_length=1000):\n",
    "        if kind == \"Binary\":\n",
    "            return Binary_initial().initial_population(population_size,dimension,code_length)\n",
    "        elif kind == \"Decimal\":\n",
    "            return Decimal_initial().initial_population(population_size,dimension)"
   ]
  },
  {
   "cell_type": "code",
   "execution_count": 5,
   "metadata": {},
   "outputs": [],
   "source": [
    "# 抽象产品类\n",
    "class Character:\n",
    "    def __init__(self, name, health, attack, skill):\n",
    "        self.name = name\n",
    "        self.health = health\n",
    "        self.attack = attack\n",
    "        self.skill = skill\n",
    "\n",
    "    def display(self):\n",
    "        pass\n",
    "\n",
    "# 具体产品类\n",
    "class Warrior(Character):\n",
    "    def __init__(self, name, health, attack, skill, weapon):\n",
    "        super().__init__(name, health, attack, skill)\n",
    "        self.weapon = weapon\n",
    "\n",
    "    def display(self):\n",
    "        print(f\"This is a warrior with {self.weapon}.\")\n",
    "\n",
    "class Mage(Character):\n",
    "    def __init__(self, name, health, attack, skill, element):\n",
    "        super().__init__(name, health, attack, skill)\n",
    "        self.element = element\n",
    "\n",
    "    def display(self):\n",
    "        print(f\"This is a mage of {self.element} element.\")\n",
    "\n",
    "class Assassin(Character):\n",
    "    def __init__(self, name, health, attack, skill, stealth_level):\n",
    "        super().__init__(name, health, attack, skill)\n",
    "        self.stealth_level = stealth_level\n",
    "\n",
    "    def display(self):\n",
    "        print(f\"This is an assassin with {self.stealth_level} stealth level.\")\n",
    "\n",
    "# 工厂类\n",
    "class CharacterFactory:\n",
    "    def create_character(self, character_type, **kwargs):\n",
    "        if character_type == \"Warrior\":\n",
    "            return Warrior(**kwargs)\n",
    "        elif character_type == \"Mage\":\n",
    "            return Mage(**kwargs)\n",
    "        elif character_type == \"Assassin\":\n",
    "            return Assassin(**kwargs)\n"
   ]
  },
  {
   "cell_type": "code",
   "execution_count": 9,
   "metadata": {},
   "outputs": [
    {
     "name": "stdout",
     "output_type": "stream",
     "text": [
      "This is a warrior with axe.\n",
      "This is a mage of fire element.\n",
      "This is an assassin with high stealth level.\n"
     ]
    }
   ],
   "source": [
    "# 创建工厂对象\n",
    "factory = CharacterFactory()\n",
    "\n",
    "# 创建 Warrior 对象，并输出其属性\n",
    "warrior = factory.create_character(\"Warrior\", name=\"John\", health=100, attack=50, skill=\"Charge\", weapon=\"axe\")\n",
    "warrior.display()\n",
    "# 输出：This is a warrior with axe.\n",
    "\n",
    "# 创建 Mage 对象，并输出其属性\n",
    "mage = factory.create_character(\"Mage\", name=\"Alice\", health=80, attack=20, skill=\"Magic Missile\", element=\"fire\")\n",
    "mage.display()\n",
    "# 输出：This is a mage of fire element.\n",
    "\n",
    "# 创建 Assassin 对象，并输出其属性\n",
    "assassin = factory.create_character(\"Assassin\", name=\"Bob\", health=70, attack=30, skill=\"Stealth Attack\", stealth_level=\"high\")\n",
    "assassin.display()\n",
    "# 输出：This is an assassin with high stealth level.\n"
   ]
  }
 ],
 "metadata": {
  "kernelspec": {
   "display_name": "py37",
   "language": "python",
   "name": "python3"
  },
  "language_info": {
   "codemirror_mode": {
    "name": "ipython",
    "version": 3
   },
   "file_extension": ".py",
   "mimetype": "text/x-python",
   "name": "python",
   "nbconvert_exporter": "python",
   "pygments_lexer": "ipython3",
   "version": "3.7.16"
  },
  "orig_nbformat": 4
 },
 "nbformat": 4,
 "nbformat_minor": 2
}
