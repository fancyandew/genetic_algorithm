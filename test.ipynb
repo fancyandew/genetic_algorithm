{
 "cells": [
  {
   "cell_type": "code",
   "execution_count": 1,
   "metadata": {},
   "outputs": [],
   "source": [
    "import random\n",
    "import math\n",
    "import matplotlib.pyplot as plt\n",
    "import numpy as np"
   ]
  },
  {
   "cell_type": "code",
   "execution_count": 3,
   "metadata": {},
   "outputs": [
    {
     "data": {
      "text/plain": [
       "-1"
      ]
     },
     "execution_count": 3,
     "metadata": {},
     "output_type": "execute_result"
    }
   ],
   "source": [
    "bounds = np.array([-1, 2]) \n",
    "min_bound, max_bound = bounds\n",
    "min_bound, max_bound"
   ]
  },
  {
   "cell_type": "code",
   "execution_count": 13,
   "metadata": {},
   "outputs": [
    {
     "name": "stdout",
     "output_type": "stream",
     "text": [
      "[0 1 3 5]\n",
      "[1 2 0 4 0 6]\n"
     ]
    }
   ],
   "source": [
    "# 创建一个numpy数组\n",
    "arr = np.array([1, 2, -3, 4, -5, 6])\n",
    "\n",
    "# 找到所有正数的下标\n",
    "positive_indices = np.where(arr > 0)[0]\n",
    "print(positive_indices)  # 输出结果为 [0 1 3 5]\n",
    "\n",
    "# 将负数替换为0\n",
    "arr = np.where(arr < 0, 0, arr)\n",
    "print(arr)  # 输出结果为 [1 2 0 4 0 6]\n"
   ]
  },
  {
   "cell_type": "code",
   "execution_count": 14,
   "metadata": {},
   "outputs": [],
   "source": [
    "import random\n",
    "import math\n",
    "import matplotlib.pyplot as plt\n",
    "import numpy as np\n",
    "\n",
    "# 初始化种群\n",
    "def generate_initial_population(population_size, num_bits):\n",
    "    population = []\n",
    "    for i in range(population_size):\n",
    "        temporary = []\n",
    "        # 染色体暂存器\n",
    "        for j in range(num_bits):\n",
    "            temporary.append(random.choice([0, 1]))\n",
    "            # 随机选择一个值，可以是0或1，将其添加到染色体中\n",
    "        population.append(temporary)\n",
    "        # 将染色体添加到种群中\n",
    "    return population\n",
    "\n",
    "\n",
    "# 从二进制编码转换为十进制数值\n",
    "def binary_to_decimal(population, bounds):\n",
    "    decimal_population = []  # 存储所有染色体的十进制数值\n",
    "    for chromosome in population:  # 遍历种群中的每个染色体\n",
    "        decimal = 0  # 初始化十进制数值\n",
    "        for i, gene in enumerate(chromosome):  # 遍历染色体中的每个基因\n",
    "            decimal += gene * (2 ** i)  # 将基因的值乘以2的幂次方，求和得到十进制数值\n",
    "        lower_bound, upper_bound = bounds[0], bounds[1]\n",
    "        mapped_decimal = lower_bound + (decimal / ((2 ** len(chromosome)) - 1)) * (upper_bound - lower_bound)\n",
    "        decimal_population.append(mapped_decimal)  # 将映射后的十进制数值添加到列表中\n",
    "    return decimal_population  # 返回所有染色体映射后的十进制数值列表\n",
    "\n",
    "\n",
    "# 十进制数值转换为二进制编码\n",
    "def decimal_to_binary(decimal_value, num_bits, bounds):\n",
    "    # 将十进制数值映射到整数范围\n",
    "    min_bound, max_bound = bounds\n",
    "    fixed_point_value = int((decimal_value - min_bound) / (max_bound - min_bound) * (2**num_bits - 1))\n",
    "\n",
    "    # 将整数转换为二进制编码列表\n",
    "    binary_value = [int(bit) for bit in format(fixed_point_value, f'0{num_bits}b')]\n",
    "\n",
    "    return binary_value\n",
    "\n",
    "\n",
    "\n",
    "# 适应度函数\n",
    "def fitness_function(x):\n",
    "    # 计算目标函数值\n",
    "    y = x * np.sin(10 * math.pi * x) + 2.0\n",
    "    # 返回适应度（即目标函数值）\n",
    "    return y\n",
    "\n",
    "\n",
    "# 适应度分数\n",
    "def compute_fitness(decimal_population):\n",
    "    fitness_values = []\n",
    "    for decimal in decimal_population:\n",
    "        y = fitness_function(decimal)\n",
    "        fitness_values.append(y)\n",
    "    return fitness_values\n",
    "\n",
    "\n",
    "# 选择操作\n",
    "def selection(population, fitness_values, num_parents):\n",
    "    # 保留适应度非负的个体,where返回的是一个二维数组\n",
    "    positive_fitness_indices = np.where(np.array(fitness_values) >= 0)[0]\n",
    "    # 根据下标找出个体和他的适应度值\n",
    "    population = [population[i] for i in positive_fitness_indices]\n",
    "    fitness_values = [fitness_values[i] for i in positive_fitness_indices]\n",
    "\n",
    "    # 计算适应度总和\n",
    "    fitness_sum = sum(fitness_values)\n",
    "\n",
    "    # 计算每个个体的选择概率，与适应度分数成正比\n",
    "    probabilities = [fitness_value / fitness_sum for fitness_value in fitness_values]\n",
    "\n",
    "    # 计算累积概率分布\n",
    "    cumulative_probabilities = np.cumsum(probabilities)\n",
    "\n",
    "    # 选择父代个体\n",
    "    parents = []\n",
    "    for i in range(num_parents):\n",
    "        # 产生一个0到1之间的随机数\n",
    "        rand_num = np.random.uniform(low=0, high=1.0)\n",
    "        # random.random()\n",
    "        # 确定随机数出现在哪个个体的概率区域内\n",
    "        for j in range(len(cumulative_probabilities)):\n",
    "            # 当前随机数小于等于累积概率列表中的某个元素，就选择该元素对应的个体作为父代\n",
    "            if rand_num <= cumulative_probabilities[j]:\n",
    "                parents.append(population[j])  # 直接返回基因\n",
    "                break\n",
    "\n",
    "    return parents\n",
    "\n",
    "\n",
    "def single_point_crossover(parents, crossover_rate):\n",
    "    offspring = []\n",
    "    num_parents = len(parents)\n",
    "    num_bits = len(parents[0])\n",
    "\n",
    "    for i in range(0, num_parents - 1, 2):\n",
    "        parent1 = parents[i]\n",
    "        parent2 = parents[i + 1]\n",
    "\n",
    "        # 随机生成交叉点\n",
    "        crossover_point = np.random.randint(1, num_bits)\n",
    "\n",
    "        # 根据交叉率进行交叉操作\n",
    "        if np.random.random() < crossover_rate:\n",
    "            # 生成新的后代\n",
    "            offspring1 = parent1[:crossover_point] + parent2[crossover_point:]\n",
    "            offspring2 = parent2[:crossover_point] + parent1[crossover_point:]\n",
    "        else:\n",
    "            # 如果不交叉，则直接将父代作为后代\n",
    "            offspring1 = parent1\n",
    "            offspring2 = parent2\n",
    "\n",
    "        # 将后代添加到列表中\n",
    "        offspring.append(offspring1)\n",
    "        offspring.append(offspring2)\n",
    "\n",
    "    return offspring\n",
    "\n",
    "\n",
    "# 变异操作\n",
    "def mutation(offspring, mutation_rate):\n",
    "    # 遍历每个后代\n",
    "    for i in range(len(offspring)):\n",
    "        # 遍历每个后代的基因\n",
    "        for j in range(len(offspring[i])):\n",
    "            # 判断是否进行变异操作\n",
    "            if np.random.uniform(0, 1) <= mutation_rate:\n",
    "                # 随机将基因进行变异\n",
    "                offspring[i][j] = 1 - offspring[i][j]\n",
    "    # 返回变异后的后代\n",
    "    return offspring\n"
   ]
  },
  {
   "cell_type": "code",
   "execution_count": 95,
   "metadata": {},
   "outputs": [],
   "source": [
    "population_size = 10\n",
    "num_generations = 500\n",
    "num_parents = 10\n",
    "num_bits = 10  # 每个个体包含的基因数量\n",
    "crossover_rate = 0.9  # 交叉率\n",
    "mutation_rate = 0.1  # 变异率\n",
    "bounds = np.array([-1, 2])  # 搜索空间边界，即每个基因x的取值范围为[-5, 5]"
   ]
  },
  {
   "cell_type": "code",
   "execution_count": 96,
   "metadata": {},
   "outputs": [
    {
     "data": {
      "text/plain": [
       "[[0, 0, 1, 1, 0, 0, 0, 0, 1, 0],\n",
       " [1, 1, 0, 0, 1, 1, 0, 0, 0, 1],\n",
       " [0, 1, 0, 0, 1, 1, 0, 0, 1, 1],\n",
       " [1, 1, 1, 0, 1, 0, 0, 0, 0, 1],\n",
       " [1, 1, 0, 0, 1, 1, 0, 1, 1, 1],\n",
       " [1, 0, 1, 1, 0, 0, 0, 1, 0, 0],\n",
       " [1, 0, 1, 1, 1, 1, 0, 1, 1, 0],\n",
       " [1, 0, 0, 0, 0, 1, 1, 0, 1, 1],\n",
       " [1, 0, 0, 0, 0, 0, 1, 1, 1, 1],\n",
       " [0, 1, 0, 0, 0, 0, 0, 0, 0, 0]]"
      ]
     },
     "execution_count": 96,
     "metadata": {},
     "output_type": "execute_result"
    }
   ],
   "source": [
    "# 初始化种群\n",
    "population = generate_initial_population(population_size, num_bits)\n",
    "len(population[0])\n",
    "population"
   ]
  },
  {
   "cell_type": "code",
   "execution_count": 79,
   "metadata": {},
   "outputs": [
    {
     "data": {
      "text/plain": [
       "[[1, 1, 0, 0, 1, 1, 1, 1, 1, 0],\n",
       " [1, 1, 0, 1, 1, 0, 1, 1, 0, 0],\n",
       " [1, 0, 1, 1, 0, 0, 0, 1, 1, 0],\n",
       " [1, 0, 1, 0, 0, 0, 0, 0, 1, 1],\n",
       " [0, 0, 1, 0, 0, 0, 1, 0, 0, 0],\n",
       " [0, 1, 1, 0, 1, 0, 0, 0, 1, 0],\n",
       " [0, 0, 1, 0, 0, 1, 0, 0, 0, 0],\n",
       " [0, 0, 0, 1, 0, 0, 0, 0, 0, 0],\n",
       " [1, 1, 1, 0, 0, 1, 0, 1, 0, 1],\n",
       " [0, 0, 1, 1, 0, 0, 1, 0, 1, 0]]"
      ]
     },
     "execution_count": 79,
     "metadata": {},
     "output_type": "execute_result"
    }
   ],
   "source": [
    "import copy\n",
    "population_copy = copy.deepcopy(population)\n",
    "population_copy"
   ]
  },
  {
   "cell_type": "code",
   "execution_count": 97,
   "metadata": {},
   "outputs": [],
   "source": [
    "# 迭代num_generations轮\n",
    "best_fitness = float('-inf')\n",
    "best_individuals = []\n",
    "best_fitnesses = []"
   ]
  },
  {
   "cell_type": "code",
   "execution_count": 98,
   "metadata": {},
   "outputs": [],
   "source": [
    "# 二进制转换为十进制\n",
    "decimal_population = binary_to_decimal(population, bounds)\n",
    "# 计算适应度分数\n",
    "fitness_values = compute_fitness(decimal_population)\n",
    "# 选择父代个体\n",
    "parents = selection(population, fitness_values, num_parents)\n",
    "# 交叉操作\n",
    "offspring = single_point_crossover(parents, crossover_rate)\n"
   ]
  },
  {
   "cell_type": "code",
   "execution_count": 99,
   "metadata": {},
   "outputs": [
    {
     "data": {
      "text/plain": [
       "[1, 0, 0, 0, 0, 0, 1, 1, 1, 1]"
      ]
     },
     "execution_count": 99,
     "metadata": {},
     "output_type": "execute_result"
    }
   ],
   "source": [
    "index_max=fitness_values.index(max(fitness_values))\n",
    "local_optimum=population[index_max]\n",
    "local_optimum"
   ]
  },
  {
   "cell_type": "code",
   "execution_count": 100,
   "metadata": {},
   "outputs": [
    {
     "data": {
      "text/plain": [
       "[-0.21407624633431088,\n",
       " 0.6510263929618767,\n",
       " 1.3988269794721404,\n",
       " 0.5689149560117301,\n",
       " 1.7771260997067446,\n",
       " -0.5865102639296188,\n",
       " 0.3049853372434017,\n",
       " 1.5366568914956011,\n",
       " 1.8181818181818183,\n",
       " -0.9941348973607038]"
      ]
     },
     "execution_count": 100,
     "metadata": {},
     "output_type": "execute_result"
    }
   ],
   "source": [
    "decimal_population"
   ]
  },
  {
   "cell_type": "code",
   "execution_count": 101,
   "metadata": {},
   "outputs": [
    {
     "data": {
      "text/plain": [
       "[2.091612954455781,\n",
       " 2.650687971384071,\n",
       " 1.948462756922927,\n",
       " 1.528608810542721,\n",
       " 0.8300555300818924,\n",
       " 1.7588149827288215,\n",
       " 1.952428547010304,\n",
       " 0.5963860825498297,\n",
       " 2.9829833044647245,\n",
       " 1.8178578011410145]"
      ]
     },
     "execution_count": 101,
     "metadata": {},
     "output_type": "execute_result"
    }
   ],
   "source": [
    "fitness_values"
   ]
  },
  {
   "cell_type": "code",
   "execution_count": 102,
   "metadata": {},
   "outputs": [
    {
     "data": {
      "text/plain": [
       "[[1, 0, 1, 1, 1, 1, 0, 1, 1, 0],\n",
       " [0, 1, 0, 0, 0, 0, 0, 0, 0, 0],\n",
       " [0, 1, 0, 0, 1, 1, 0, 0, 1, 1],\n",
       " [1, 0, 0, 0, 0, 0, 1, 1, 1, 1],\n",
       " [1, 1, 0, 0, 1, 1, 0, 0, 0, 1],\n",
       " [1, 1, 0, 0, 1, 1, 0, 0, 0, 1],\n",
       " [0, 1, 0, 0, 1, 1, 0, 0, 1, 1],\n",
       " [1, 0, 1, 1, 1, 1, 0, 1, 1, 0],\n",
       " [1, 1, 1, 0, 1, 0, 0, 0, 0, 1],\n",
       " [1, 0, 1, 1, 0, 0, 0, 1, 0, 0]]"
      ]
     },
     "execution_count": 102,
     "metadata": {},
     "output_type": "execute_result"
    }
   ],
   "source": [
    "parents"
   ]
  },
  {
   "cell_type": "code",
   "execution_count": 103,
   "metadata": {},
   "outputs": [
    {
     "data": {
      "text/plain": [
       "[[1, 0, 1, 1, 1, 1, 0, 0, 0, 0],\n",
       " [0, 1, 0, 0, 0, 0, 0, 1, 1, 0],\n",
       " [0, 1, 0, 0, 1, 0, 1, 1, 1, 1],\n",
       " [1, 0, 0, 0, 0, 1, 0, 0, 1, 1],\n",
       " [1, 1, 0, 0, 1, 1, 0, 0, 0, 1],\n",
       " [1, 1, 0, 0, 1, 1, 0, 0, 0, 1],\n",
       " [0, 1, 0, 0, 1, 1, 0, 1, 1, 0],\n",
       " [1, 0, 1, 1, 1, 1, 0, 0, 1, 1],\n",
       " [1, 1, 1, 1, 0, 0, 0, 1, 0, 0],\n",
       " [1, 0, 1, 0, 1, 0, 0, 0, 0, 1]]"
      ]
     },
     "execution_count": 103,
     "metadata": {},
     "output_type": "execute_result"
    }
   ],
   "source": [
    "offspring"
   ]
  },
  {
   "cell_type": "code",
   "execution_count": 104,
   "metadata": {},
   "outputs": [
    {
     "data": {
      "text/plain": [
       "[[1, 0, 1, 1, 1, 1, 0, 0, 0, 0],\n",
       " [1, 1, 0, 0, 0, 0, 0, 1, 1, 0],\n",
       " [0, 1, 0, 0, 0, 0, 1, 1, 1, 1],\n",
       " [1, 0, 0, 0, 0, 1, 0, 0, 1, 1],\n",
       " [1, 1, 0, 0, 1, 1, 1, 0, 0, 1],\n",
       " [1, 1, 0, 0, 1, 1, 1, 0, 0, 1],\n",
       " [0, 1, 0, 0, 1, 0, 0, 1, 1, 0],\n",
       " [1, 0, 1, 1, 1, 1, 0, 0, 1, 0],\n",
       " [1, 1, 1, 1, 0, 0, 0, 1, 0, 0],\n",
       " [1, 0, 1, 1, 1, 0, 0, 0, 0, 1]]"
      ]
     },
     "execution_count": 104,
     "metadata": {},
     "output_type": "execute_result"
    }
   ],
   "source": [
    "# 变异操作\n",
    "offspring = mutation(offspring, mutation_rate)\n",
    "offspring"
   ]
  },
  {
   "cell_type": "code",
   "execution_count": 105,
   "metadata": {},
   "outputs": [
    {
     "data": {
      "text/plain": [
       "[2.5055947166787518,\n",
       " 1.8800036717750574,\n",
       " 3.1213368537768122,\n",
       " 0.6517276268618357,\n",
       " 2.7865017882523913,\n",
       " 2.7865017882523913,\n",
       " 1.8898525795806995,\n",
       " 2.056440074010466,\n",
       " 1.6682958751062507,\n",
       " 1.7588149827288198]"
      ]
     },
     "execution_count": 105,
     "metadata": {},
     "output_type": "execute_result"
    }
   ],
   "source": [
    "decimal_offspring = binary_to_decimal(offspring, bounds)\n",
    "# 计算适应度分数\n",
    "fitness_offspring = compute_fitness(decimal_offspring)\n",
    "fitness_offspring"
   ]
  },
  {
   "cell_type": "code",
   "execution_count": 106,
   "metadata": {},
   "outputs": [
    {
     "data": {
      "text/plain": [
       "[[1, 0, 1, 1, 1, 1, 0, 0, 0, 0],\n",
       " [1, 1, 0, 0, 0, 0, 0, 1, 1, 0],\n",
       " [0, 1, 0, 0, 0, 0, 1, 1, 1, 1],\n",
       " [1, 0, 0, 0, 0, 0, 1, 1, 1, 1],\n",
       " [1, 1, 0, 0, 1, 1, 1, 0, 0, 1],\n",
       " [1, 1, 0, 0, 1, 1, 1, 0, 0, 1],\n",
       " [0, 1, 0, 0, 1, 0, 0, 1, 1, 0],\n",
       " [1, 0, 1, 1, 1, 1, 0, 0, 1, 0],\n",
       " [1, 1, 1, 1, 0, 0, 0, 1, 0, 0],\n",
       " [1, 0, 1, 1, 1, 0, 0, 0, 0, 1]]"
      ]
     },
     "execution_count": 106,
     "metadata": {},
     "output_type": "execute_result"
    }
   ],
   "source": [
    "index_min=fitness_offspring.index(min(fitness_offspring))\n",
    "offspring[index_min]=local_optimum\n",
    "offspring"
   ]
  },
  {
   "cell_type": "code",
   "execution_count": 107,
   "metadata": {},
   "outputs": [],
   "source": [
    "# 得到新的种群\n",
    "population = offspring"
   ]
  },
  {
   "cell_type": "code",
   "execution_count": 108,
   "metadata": {},
   "outputs": [
    {
     "data": {
      "text/plain": [
       "[[1, 0, 1, 1, 1, 1, 0, 0, 0, 0],\n",
       " [1, 1, 0, 0, 0, 0, 0, 1, 1, 0],\n",
       " [0, 1, 0, 0, 0, 0, 1, 1, 1, 1],\n",
       " [1, 0, 0, 0, 0, 0, 1, 1, 1, 1],\n",
       " [1, 1, 0, 0, 1, 1, 1, 0, 0, 1],\n",
       " [1, 1, 0, 0, 1, 1, 1, 0, 0, 1],\n",
       " [0, 1, 0, 0, 1, 0, 0, 1, 1, 0],\n",
       " [1, 0, 1, 1, 1, 1, 0, 0, 1, 0],\n",
       " [1, 1, 1, 1, 0, 0, 0, 1, 0, 0],\n",
       " [1, 0, 1, 1, 1, 0, 0, 0, 0, 1]]"
      ]
     },
     "execution_count": 108,
     "metadata": {},
     "output_type": "execute_result"
    }
   ],
   "source": [
    "population"
   ]
  },
  {
   "cell_type": "code",
   "execution_count": 109,
   "metadata": {},
   "outputs": [
    {
     "data": {
      "text/plain": [
       "2.9829833044647245"
      ]
     },
     "execution_count": 109,
     "metadata": {},
     "output_type": "execute_result"
    }
   ],
   "source": [
    "generation_best_fitness = fitness_values[index_max]\n",
    "generation_best_fitness"
   ]
  },
  {
   "cell_type": "code",
   "execution_count": 110,
   "metadata": {},
   "outputs": [
    {
     "data": {
      "text/plain": [
       "1.8181818181818183"
      ]
     },
     "execution_count": 110,
     "metadata": {},
     "output_type": "execute_result"
    }
   ],
   "source": [
    "generation_best_individual = decimal_population[index_max]\n",
    "generation_best_individual"
   ]
  },
  {
   "cell_type": "code",
   "execution_count": 131,
   "metadata": {},
   "outputs": [
    {
     "data": {
      "text/plain": [
       "[4, [3, 5]]"
      ]
     },
     "execution_count": 131,
     "metadata": {},
     "output_type": "execute_result"
    }
   ],
   "source": [
    "a=[[0,1],[3,5]]\n",
    "b=a\n",
    "a[0]=4\n",
    "b"
   ]
  },
  {
   "cell_type": "code",
   "execution_count": 1,
   "metadata": {},
   "outputs": [],
   "source": [
    "class MyClass:\n",
    "    class_property = 0\n",
    "\n",
    "    def __init__(self, instance_property):\n",
    "        self.instance_property = instance_property\n",
    "      \n",
    "    def instance_method(self):\n",
    "        print('this is an instance method')\n",
    "      \n",
    "    @classmethod\n",
    "    def class_method(cls):\n",
    "        print('this is a class method')\n",
    "        print(f'class property: {cls.class_property}')\n"
   ]
  },
  {
   "cell_type": "code",
   "execution_count": 2,
   "metadata": {},
   "outputs": [
    {
     "name": "stdout",
     "output_type": "stream",
     "text": [
      "this is a class method\n",
      "class property: 0\n",
      "10\n",
      "20\n",
      "this is a class method\n",
      "class property: 100\n"
     ]
    }
   ],
   "source": [
    "c1 = MyClass(10)\n",
    "c2 = MyClass(20)\n",
    "\n",
    "# 调用类方法\n",
    "MyClass.class_method() # 输出：this is a class method; class property: 0\n",
    "\n",
    "# 在类方法中修改类属性\n",
    "MyClass.class_property = 100\n",
    "\n",
    "# 输出实例对象的属性值\n",
    "print(c1.instance_property) # 输出：10\n",
    "print(c2.instance_property) # 输出：20\n",
    "\n",
    "# 重新调用类方法\n",
    "MyClass.class_method() # 输出：this is a class method; class property: 100\n"
   ]
  },
  {
   "cell_type": "code",
   "execution_count": 3,
   "metadata": {},
   "outputs": [
    {
     "name": "stdout",
     "output_type": "stream",
     "text": [
      "this is a class method\n",
      "class property: 100\n"
     ]
    }
   ],
   "source": [
    "c1.class_method()"
   ]
  },
  {
   "cell_type": "code",
   "execution_count": 61,
   "metadata": {},
   "outputs": [
    {
     "name": "stdout",
     "output_type": "stream",
     "text": [
      "resume\n",
      "report\n"
     ]
    }
   ],
   "source": [
    "class Document:\n",
    "    _registry = {}\n",
    "      \n",
    "    def __init__(self, name):\n",
    "        self.name = name\n",
    "      \n",
    "    def description(self):\n",
    "        return f'Document: {self.name}'\n",
    "      \n",
    "    @classmethod\n",
    "    def register(cls, name, factory):\n",
    "        print(factory(name).name)\n",
    "        cls._registry[name] = lambda: factory(name)\n",
    "      \n",
    "    @classmethod\n",
    "    def create(cls, name):\n",
    "        if name not in cls._registry:\n",
    "            raise ValueError(f'{name} is not a registered document type')\n",
    "        return cls._registry[name]()\n",
    "      \n",
    "class Resume(Document):\n",
    "    def description(self):\n",
    "        return f'Resume: {self.name}'\n",
    "      \n",
    "class Report(Document):\n",
    "    def description(self):\n",
    "        return f'Report: {self.name}'\n",
    "      \n",
    "Document.register('resume', Resume)\n",
    "Document.register('report', Report)\n",
    "\n"
   ]
  },
  {
   "cell_type": "code",
   "execution_count": 63,
   "metadata": {},
   "outputs": [
    {
     "data": {
      "text/plain": [
       "'resume'"
      ]
     },
     "execution_count": 63,
     "metadata": {},
     "output_type": "execute_result"
    }
   ],
   "source": [
    "a1=Document(\"resume\")\n",
    "a1_class=a1.create(\"resume\")\n",
    "a1_class.name"
   ]
  },
  {
   "cell_type": "code",
   "execution_count": 49,
   "metadata": {},
   "outputs": [
    {
     "name": "stdout",
     "output_type": "stream",
     "text": [
      "{'resume': <function Document.register.<locals>.<lambda> at 0x0000020B8D8B7CA8>, 'report': <function Document.register.<locals>.<lambda> at 0x0000020B8D8B79D8>}\n"
     ]
    }
   ],
   "source": [
    "print(Document._registry)"
   ]
  },
  {
   "cell_type": "code",
   "execution_count": 57,
   "metadata": {},
   "outputs": [
    {
     "data": {
      "text/plain": [
       "('resume', 'report')"
      ]
     },
     "execution_count": 57,
     "metadata": {},
     "output_type": "execute_result"
    }
   ],
   "source": [
    "a1=Document(\"a1\")\n",
    "a1_class=a1.create('resume')\n",
    "a1_class_ga=a1_class.create('report')\n",
    "a1_class.name,a1_class_ga.name"
   ]
  },
  {
   "cell_type": "code",
   "execution_count": 53,
   "metadata": {},
   "outputs": [
    {
     "data": {
      "text/plain": [
       "('Resume: resume', 'Report: report')"
      ]
     },
     "execution_count": 53,
     "metadata": {},
     "output_type": "execute_result"
    }
   ],
   "source": [
    "my_resume1 = Document.create('resume')\n",
    "my_resume2 = Document.create('report')\n",
    "my_resume1.description(),my_resume2.description()"
   ]
  }
 ],
 "metadata": {
  "kernelspec": {
   "display_name": "python37",
   "language": "python",
   "name": "python3"
  },
  "language_info": {
   "codemirror_mode": {
    "name": "ipython",
    "version": 3
   },
   "file_extension": ".py",
   "mimetype": "text/x-python",
   "name": "python",
   "nbconvert_exporter": "python",
   "pygments_lexer": "ipython3",
   "version": "3.7.16"
  },
  "orig_nbformat": 4
 },
 "nbformat": 4,
 "nbformat_minor": 2
}
